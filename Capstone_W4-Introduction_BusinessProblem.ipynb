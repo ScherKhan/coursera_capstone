{
    "cells": [
        {
            "cell_type": "markdown",
            "metadata": {},
            "source": "__*Introduction/Business Problem*__  \n\nLondon is one of the largest and busiest city in Europe. It also one of the world's capitals of finance, culture, art and entertainment. With all of its cultural diversity it provides many opportunities for new businessess and working professionals. Greater London Authority published population projection for the city and updated it annually at both local authority and ward level for year up to 2050.\n\nIn the modern worlds of cosmopolites and fast changing trends it becomes increasingly important to examine and understand all these changes quantitatively. City government and urban planners, enterpreneurs and investors - all have an interest in identifying early opportunities and growing urban footprint in prospective districts.\n\nMy idea here is that using population projection data and current venues information (from extensive Foursquare database) I can do following analysis:\n - classify neighbourhoods to following categories: underdeveloped, business center or downtown, highly developed;\n - explore underdeveloped neighbourhoods looking at significant population growth;\n - identify opportunities for new businesses in urbanizing heighbourhoods;\n\n\n __*Data*__  \n\nFor this analysis I will use following sources of data:\n- Greater London Authority Population and Household Projections dataset, published on [London Datastore](https://data.london.gov.uk/dataset/land-area-and-population-density-ward-and-borough). From this source we can take following data: borough name, borough location, borough current population and population projection for years 2020-2050.\n- London Borough Profiles by [London Datastore](https://londondatastore-upload.s3.amazonaws.com/instant-atlas/borough-atlas/atlas.html). Will\n- Venues data using [Foursquare API](http://developer.foursquare.com). From this source we can take following data: list of venues names and locations in each of 33 boroughs(I will also call City of London borough for ease), also venue category (we will only need high level category, which will extract also from Foursquare, but as list of categories, available [here](https://developer.foursquare.com/docs/resources/categories)).\n\n\n__*The methodology*__\n\nData retrieval, exploration and wrangling  \nPerforming K-means clustering algorithm to segment neighborhoods  \nVisualizing population projections and neighborhood segments  \n\n"
        },
        {
            "cell_type": "code",
            "execution_count": null,
            "metadata": {},
            "outputs": [],
            "source": ""
        }
    ],
    "metadata": {
        "kernelspec": {
            "display_name": "Python 3.6",
            "language": "python",
            "name": "python3"
        },
        "language_info": {
            "codemirror_mode": {
                "name": "ipython",
                "version": 3
            },
            "file_extension": ".py",
            "mimetype": "text/x-python",
            "name": "python",
            "nbconvert_exporter": "python",
            "pygments_lexer": "ipython3",
            "version": "3.6.9"
        }
    },
    "nbformat": 4,
    "nbformat_minor": 1
}